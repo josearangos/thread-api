{
 "cells": [
  {
   "cell_type": "markdown",
   "metadata": {},
   "source": [
    "# Actividad de laboratorio #\n",
    "\n",
    "1. Dado el siguiente código:"
   ]
  },
  {
   "cell_type": "code",
   "execution_count": null,
   "metadata": {},
   "outputs": [],
   "source": [
    "#include <stdio.h>\n",
    "#include <stdlib.h>\n",
    "#include <unistd.h>\n",
    "#include<time.h>\n",
    "\n",
    "long long int factorial (int);\n",
    "\n",
    "int main (int argc, char *argv[]) {\n",
    "  srand(time(0)); \n",
    "  if (argc== 2) {\n",
    "    printf (\"El factorial de %s es %lld\\n\", argv[1], factorial (atoi (argv[1])));\n",
    "  }\n",
    "  return 0;\n",
    "}\n",
    "\n",
    "long long int factorial (int n) {\n",
    "  long long int resultado= 1;\n",
    "  int num;\n",
    "  for (num= 2; num<= n; num++) {\n",
    "    resultado= resultado*num;\n",
    "    printf (\"Factorial de %d, resultado parcial %lld\\n\", n, resultado);\n",
    "    sleep (random()%3);\n",
    "  }\n",
    "  return resultado;\n",
    "}"
   ]
  },
  {
   "cell_type": "markdown",
   "metadata": {},
   "source": [
    "Modifique el programa anterior de manera que reciba dos números enteros como parámetros de entrada y calcule sus factoriales de manera concurrente utilizando dos hilos que se ejecutan en paralelo con el hilo principal. El hilo principal deberá esperar a que terminen los otros dos hilos. Recuerda  añadir el parámetro ```-lpthread``` al comienzo del ```gcc``` para compilar la aplicación multihilo."
   ]
  },
  {
   "cell_type": "markdown",
   "metadata": {},
   "source": [
    "2. Modifique el programa resultante del numeral anterior de manera que no el número de factoriales a calcular no este limitado a 2. Para este caso, el programa puede crear tantos hilos como sean necesarios para el cálculo del factorial dependiendo del número de argumentos pasados. El hilo principal deberá esperar a que terminen el resto de los hilos y a medida que vayan terminando muestran un mensaje que indique el identificador del hilo finalizado.\n",
    "\n"
   ]
  },
  {
   "cell_type": "markdown",
   "metadata": {},
   "source": [
    "3. El siguiente programa cuenta el número de veces que el carácter a o A aparece en el fichero indicado como parámetro de entrada. Modifíquese para que ahora se cree un hilo y sea este el que ejecute la función cuenta."
   ]
  },
  {
   "cell_type": "code",
   "execution_count": null,
   "metadata": {},
   "outputs": [],
   "source": [
    "#include <unistd.h>\n",
    "#include <stdlib.h>\n",
    "#include <stdio.h>\n",
    "#include <sys/types.h>\n",
    "#include <sys/stat.h>\n",
    "#include <fcntl.h>\n",
    "\n",
    "#define MAXLON 1000\n",
    "\n",
    "void cuenta (char *);\n",
    "\n",
    "int main (int argc, char *argv[]) { \n",
    "  if (argc!= 2) {\n",
    "    printf (\"Indica el nombre de un fichero.\\n\");\n",
    "    exit(0);\n",
    "  }\n",
    "  cuenta(argv[1]);\n",
    "  return 0;\n",
    "}\n",
    "\n",
    "void cuenta (char *nombre) {\n",
    "  int pos, cont= 0, leidos;\n",
    "  char cadena[MAXLON];\n",
    "  int fd;\n",
    "  fd= open(nombre,O_RDONLY);\n",
    "  while ((leidos =read(fd,cadena,MAXLON))!= 0) {\n",
    "    for (pos= 0; pos< leidos; pos++) {\n",
    "      if ((cadena[pos]== 'a') || (cadena[pos]== 'A')) {\n",
    "        cont++;\n",
    "      }\n",
    "    }\n",
    "  }\n",
    "  printf(\"Fichero %s: %d caracteres 'a' o 'A' encontrados\\n\", nombre, cont);\n",
    "  close(fd);\n",
    "}"
   ]
  },
  {
   "cell_type": "markdown",
   "metadata": {},
   "source": [
    "4. Modifique el programa resultado del ejercicio anterior para que se creen tantos hilos como ficheros especificados como parámetros de entrada de tal manera que todos los hilos lleven a cabo su función de forma concurrente."
   ]
  },
  {
   "cell_type": "markdown",
   "metadata": {},
   "source": [
    "5. Se requiere un programa que reciba un vector de números a través de un archivo de texto. La idea es que el programa sume todos los números del vector. Implemente el programa de dos maneras: la primera de una forma estrictamente secuencial. La segunda forma es creando dos hilos, de manera que cada uno de ellos realice la sumatoria de la mitad de los componentes del vector. El hilo 1 sumará los primeros datos del vector y el hilo 2 los últimos. Luego cuando los dos hilos finalicen muestre en pantalla el resultado.\n",
    "   * Realice el programa de manera genérica, de tal forma que sea posible ingresar vectores de cualquier tamaño.\n",
    "   * Mida el tiempo de ejecución de ambas implementaciones para varios tamaños del vector \n",
    "   *  ¿El resultado obtenido es acorde a lo que usted esperaba?\n",
    "   Describa la técnica que usó para realizar la medición del tiempo. ¿Cuáles son las debilidades de esta técnica? ¿Existe otra forma de medir el tiempo de ejecución de un programa?"
   ]
  },
  {
   "cell_type": "markdown",
   "metadata": {},
   "source": [
    "6. El profesor de un curso desea un programa en lenguaje C que calcule la desviación estándar (símbolo σ o s) de las notas obtenidas por sus estudiantes en el curso "
   ]
  },
  {
   "cell_type": "markdown",
   "metadata": {},
   "source": [
    "**Requisitos**:\n",
    "* El número de notas es variable (se debe usar memoria dinámica).\n",
    "* El programa debe crear tantos hilos como se especifique en el parámetro de entrada cantidad_hilos, se debe ejecutar así: \n",
    "\n",
    "```./nombre_ejecutable fichero_notas.csv cantidad_hilos```\n",
    "\n",
    "* Para calcular la desviación estándar, implemente la función: ```calculate_standard_deviation()``` "
   ]
  },
  {
   "cell_type": "code",
   "execution_count": null,
   "metadata": {},
   "outputs": [],
   "source": []
  }
 ],
 "metadata": {
  "kernelspec": {
   "display_name": "Python 3",
   "language": "python",
   "name": "python3"
  },
  "language_info": {
   "codemirror_mode": {
    "name": "ipython",
    "version": 3
   },
   "file_extension": ".py",
   "mimetype": "text/x-python",
   "name": "python",
   "nbconvert_exporter": "python",
   "pygments_lexer": "ipython3",
   "version": "3.7.6"
  }
 },
 "nbformat": 4,
 "nbformat_minor": 4
}
