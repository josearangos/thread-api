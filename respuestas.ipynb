{
  "nbformat": 4,
  "nbformat_minor": 0,
  "metadata": {
    "kernelspec": {
      "display_name": "Python 3",
      "language": "python",
      "name": "python3"
    },
    "language_info": {
      "codemirror_mode": {
        "name": "ipython",
        "version": 3
      },
      "file_extension": ".py",
      "mimetype": "text/x-python",
      "name": "python",
      "nbconvert_exporter": "python",
      "pygments_lexer": "ipython3",
      "version": "3.7.6"
    },
    "colab": {
      "name": "respuestas.ipynb",
      "provenance": [],
      "collapsed_sections": []
    }
  },
  "cells": [
    {
      "cell_type": "markdown",
      "metadata": {
        "id": "JqejcE-qn76h",
        "colab_type": "text"
      },
      "source": [
        "# Actividad de laboratorio #\n",
        "\n",
        "1. Dado el siguiente código:"
      ]
    },
    {
      "cell_type": "code",
      "metadata": {
        "id": "yG0Lluz4n76k",
        "colab_type": "code",
        "colab": {}
      },
      "source": [
        "#include <stdio.h>\n",
        "#include <stdlib.h>\n",
        "#include <unistd.h>\n",
        "#include<time.h>\n",
        "\n",
        "long long int factorial (int);\n",
        "\n",
        "int main (int argc, char *argv[]) {\n",
        "  srand(time(0)); \n",
        "  if (argc== 2) {\n",
        "    printf (\"El factorial de %s es %lld\\n\", argv[1], factorial (atoi (argv[1])));\n",
        "  }\n",
        "  return 0;\n",
        "}\n",
        "\n",
        "long long int factorial (int n) {\n",
        "  long long int resultado= 1;\n",
        "  int num;\n",
        "  for (num= 2; num<= n; num++) {\n",
        "    resultado= resultado*num;\n",
        "    printf (\"Factorial de %d, resultado parcial %lld\\n\", n, resultado);\n",
        "    sleep (random()%3);\n",
        "  }\n",
        "  return resultado;\n",
        "}"
      ],
      "execution_count": 0,
      "outputs": []
    },
    {
      "cell_type": "markdown",
      "metadata": {
        "id": "WJ3GVI6_n760",
        "colab_type": "text"
      },
      "source": [
        "Modifique el programa anterior de manera que reciba dos números enteros como parámetros de entrada y calcule sus factoriales de manera concurrente utilizando dos hilos que se ejecutan en paralelo con el hilo principal. El hilo principal deberá esperar a que terminen los otros dos hilos. Recuerda  añadir el parámetro ```-lpthread``` al comienzo del ```gcc``` para compilar la aplicación multihilo."
      ]
    },
    {
      "cell_type": "markdown",
      "metadata": {
        "id": "eNXPdEIfn761",
        "colab_type": "text"
      },
      "source": [
        "2. Modifique el programa resultante del numeral anterior de manera que no el número de factoriales a calcular no este limitado a 2. Para este caso, el programa puede crear tantos hilos como sean necesarios para el cálculo del factorial dependiendo del número de argumentos pasados. El hilo principal deberá esperar a que terminen el resto de los hilos y a medida que vayan terminando muestran un mensaje que indique el identificador del hilo finalizado.\n",
        "\n"
      ]
    },
    {
      "cell_type": "markdown",
      "metadata": {
        "id": "xviP5Yk3n763",
        "colab_type": "text"
      },
      "source": [
        "3. El siguiente programa cuenta el número de veces que el carácter a o A aparece en el fichero indicado como parámetro de entrada. Modifíquese para que ahora se cree un hilo y sea este el que ejecute la función cuenta."
      ]
    },
    {
      "cell_type": "code",
      "metadata": {
        "id": "KJTzBCqbn764",
        "colab_type": "code",
        "colab": {}
      },
      "source": [
        "#include <unistd.h>\n",
        "#include <stdlib.h>\n",
        "#include <stdio.h>\n",
        "#include <sys/types.h>\n",
        "#include <sys/stat.h>\n",
        "#include <fcntl.h>\n",
        "\n",
        "#define MAXLON 1000\n",
        "\n",
        "void cuenta (char *);\n",
        "\n",
        "int main (int argc, char *argv[]) { \n",
        "  if (argc!= 2) {\n",
        "    printf (\"Indica el nombre de un fichero.\\n\");\n",
        "    exit(0);\n",
        "  }\n",
        "  cuenta(argv[1]);\n",
        "  return 0;\n",
        "}\n",
        "\n",
        "void cuenta (char *nombre) {\n",
        "  int pos, cont= 0, leidos;\n",
        "  char cadena[MAXLON];\n",
        "  int fd;\n",
        "  fd= open(nombre,O_RDONLY);\n",
        "  while ((leidos =read(fd,cadena,MAXLON))!= 0) {\n",
        "    for (pos= 0; pos< leidos; pos++) {\n",
        "      if ((cadena[pos]== 'a') || (cadena[pos]== 'A')) {\n",
        "        cont++;\n",
        "      }\n",
        "    }\n",
        "  }\n",
        "  printf(\"Fichero %s: %d caracteres 'a' o 'A' encontrados\\n\", nombre, cont);\n",
        "  close(fd);\n",
        "}"
      ],
      "execution_count": 0,
      "outputs": []
    },
    {
      "cell_type": "markdown",
      "metadata": {
        "id": "MancTzhIoerU",
        "colab_type": "text"
      },
      "source": [
        "Codigo agragando un hilo que lance la funciòn "
      ]
    },
    {
      "cell_type": "code",
      "metadata": {
        "id": "vCx-nI4Xokev",
        "colab_type": "code",
        "colab": {}
      },
      "source": [
        "#include <unistd.h>\n",
        "#include <stdlib.h>\n",
        "#include <stdio.h>\n",
        "#include <sys/types.h>\n",
        "#include <sys/stat.h>\n",
        "#include <fcntl.h>\n",
        "#include <pthread.h>\n",
        "\n",
        "#define MAXLON 1000\n",
        "\n",
        "struct cuenta_parms\n",
        "{\n",
        "  /* The character to print.  */\n",
        "  char * nombre;\n",
        "\n",
        "};\n",
        "\n",
        "void * cuenta (void* parameters) {\n",
        "  struct cuenta_parms* p = (struct cuenta_parms*) parameters;\n",
        "\n",
        "  int pos, cont= 0, leidos;\n",
        "  char cadena[MAXLON];\n",
        "  int fd;\n",
        "  fd= open(p->nombre,O_RDONLY);\n",
        "  while ((leidos =read(fd,cadena,MAXLON))!= 0) {\n",
        "    for (pos= 0; pos< leidos; pos++) {\n",
        "      if ((cadena[pos]== 'a') || (cadena[pos]== 'A')) {\n",
        "        cont++;\n",
        "      }\n",
        "    }\n",
        "  }\n",
        "  printf(\"Fichero %s: %d caracteres 'a' o 'A' encontrados\\n\", p->nombre, cont);\n",
        "  close(fd);\n",
        "  return NULL;\n",
        "}\n",
        "\n",
        "int main (int argc, char *argv[]) {\n",
        "  if (argc!= 2) {\n",
        "    printf (\"Indica el nombre de un fichero.\\n\");\n",
        "    exit(0);\n",
        "  }\n",
        "\n",
        "  pthread_t thread1_id;\n",
        "  struct cuenta_parms thread1_args;\n",
        "\n",
        "  thread1_args.nombre = argv[1];\n",
        "\n",
        "  pthread_create (&thread1_id, NULL, &cuenta, &thread1_args);\n",
        "\n",
        "  /*-------INSERTAR AQUÍ-------*/\n",
        "  pthread_join (thread1_id, NULL);\n",
        " \n",
        "  return 0;\n",
        "}"
      ],
      "execution_count": 0,
      "outputs": []
    },
    {
      "cell_type": "markdown",
      "metadata": {
        "id": "4AX_yWV4pHvE",
        "colab_type": "text"
      },
      "source": [
        "Resultados"
      ]
    },
    {
      "cell_type": "markdown",
      "metadata": {
        "id": "FLggAxvkpKiD",
        "colab_type": "text"
      },
      "source": [
        "![texto alternativo](https://raw.githubusercontent.com/josearangos/thread-api/master/Code/Punto%203/P_3.png)"
      ]
    },
    {
      "cell_type": "markdown",
      "metadata": {
        "id": "CNN8Lr1gn77C",
        "colab_type": "text"
      },
      "source": [
        "4. Modifique el programa resultado del ejercicio anterior para que se creen tantos hilos como ficheros especificados como parámetros de entrada de tal manera que todos los hilos lleven a cabo su función de forma concurrente."
      ]
    },
    {
      "cell_type": "code",
      "metadata": {
        "id": "BGQ2d2RgpTT8",
        "colab_type": "code",
        "colab": {}
      },
      "source": [
        "#include <unistd.h>\n",
        "#include <stdlib.h>\n",
        "#include <stdio.h>\n",
        "#include <sys/types.h>\n",
        "#include <sys/stat.h>\n",
        "#include <fcntl.h>\n",
        "#include <pthread.h>\n",
        "\n",
        "#define MAXLON 1000\n",
        "\n",
        "struct cuenta_parms\n",
        "{\n",
        "  /* The character to print.  */\n",
        "  char * nombre;\n",
        "\n",
        "};\n",
        "\n",
        "void * cuenta (void* parameters) {\n",
        "  struct cuenta_parms* p = (struct cuenta_parms*) parameters;\n",
        "\n",
        "  int pos, cont= 0, leidos;\n",
        "  char cadena[MAXLON];\n",
        "  int fd;\n",
        "  fd= open(p->nombre,O_RDONLY);\n",
        "  while ((leidos =read(fd,cadena,MAXLON))!= 0) {\n",
        "    for (pos= 0; pos< leidos; pos++) {\n",
        "      if ((cadena[pos]== 'a') || (cadena[pos]== 'A')) {\n",
        "        cont++;\n",
        "      }\n",
        "    }\n",
        "  }\n",
        "  printf(\"Fichero %s: %d caracteres 'a' o 'A' encontrados\\n\", p->nombre, cont);\n",
        "  close(fd);\n",
        "  return NULL;\n",
        "}\n",
        "\n",
        "int main (int argc, char *argv[]) {\n",
        "  if (argc < 2) {\n",
        "    printf (\"Indica el nombre de un fichero.\\n\");\n",
        "    exit(0);\n",
        "  }\n",
        "  int count=1;\n",
        "  while(count<argc){\n",
        "\n",
        "    pthread_t thread1_id;\n",
        "    struct cuenta_parms thread1_args;\n",
        "\n",
        "    thread1_args.nombre = argv[count];\n",
        "\n",
        "    pthread_create (&thread1_id, NULL, &cuenta, &thread1_args);\n",
        "\n",
        "    /*-------INSERTAR AQUÍ-------*/\n",
        "    pthread_join (thread1_id, NULL);\n",
        "\n",
        "    count+=1;\n",
        "  }\n",
        "  return 0;\n",
        "}\n"
      ],
      "execution_count": 0,
      "outputs": []
    },
    {
      "cell_type": "markdown",
      "metadata": {
        "id": "BLT44zzjpZNQ",
        "colab_type": "text"
      },
      "source": [
        "Resultados"
      ]
    },
    {
      "cell_type": "markdown",
      "metadata": {
        "id": "nRVNS4skpcjs",
        "colab_type": "text"
      },
      "source": [
        "![texto alternativo](https://raw.githubusercontent.com/josearangos/thread-api/master/Code/Punto%204/P_4.png)"
      ]
    },
    {
      "cell_type": "markdown",
      "metadata": {
        "id": "ZXi-jw9on77C",
        "colab_type": "text"
      },
      "source": [
        "5. Se requiere un programa que reciba un vector de números a través de un archivo de texto. La idea es que el programa sume todos los números del vector. Implemente el programa de dos maneras: la primera de una forma estrictamente secuencial. La segunda forma es creando dos hilos, de manera que cada uno de ellos realice la sumatoria de la mitad de los componentes del vector. El hilo 1 sumará los primeros datos del vector y el hilo 2 los últimos. Luego cuando los dos hilos finalicen muestre en pantalla el resultado.\n",
        "   * Realice el programa de manera genérica, de tal forma que sea posible ingresar vectores de cualquier tamaño.\n",
        "   * Mida el tiempo de ejecución de ambas implementaciones para varios tamaños del vector \n",
        "   *  ¿El resultado obtenido es acorde a lo que usted esperaba?\n",
        "   Describa la técnica que usó para realizar la medición del tiempo. ¿Cuáles son las debilidades de esta técnica? ¿Existe otra forma de medir el tiempo de ejecución de un programa?"
      ]
    },
    {
      "cell_type": "markdown",
      "metadata": {
        "id": "J_vux-SDqDFH",
        "colab_type": "text"
      },
      "source": [
        " Programa que suma todos los números de un vector"
      ]
    },
    {
      "cell_type": "code",
      "metadata": {
        "id": "EyTCioRop_Ik",
        "colab_type": "code",
        "colab": {}
      },
      "source": [
        "#include <unistd.h>\n",
        "#include <stdlib.h>\n",
        "#include <stdio.h>\n",
        "#include <sys/types.h>\n",
        "#include <sys/stat.h>\n",
        "#include <fcntl.h>\n",
        "#include <string.h>\n",
        "\n",
        "#define MAXLON 1000\n",
        "\n",
        "void cuenta (char *);\n",
        "\n",
        "int main (int argc, char *argv[]) { \n",
        "  if (argc!= 2) {\n",
        "    printf (\"Indica el nombre de un fichero.\\n\");\n",
        "    exit(0);\n",
        "  }\n",
        "  cuenta(argv[1]);\n",
        "  return 0;\n",
        "}\n",
        "\n",
        "void cuenta (char *nombre) {\n",
        "  int pos, cont= 0, leidos;\n",
        "  char cadena[MAXLON];\n",
        "  int fd;\n",
        "  fd= open(nombre,O_RDONLY);\n",
        "  char valores [7];\n",
        "  int suma=0;\n",
        "  while ((leidos =read(fd,cadena,MAXLON))!= 0) {\n",
        "    for (pos= 0; pos< leidos; pos++) { \n",
        "      if (cadena[pos]== ','){\n",
        "        //valores[cont]=NULL;\n",
        "        suma=suma+atoi(valores);\n",
        "        memset(valores,'\\0',7);\n",
        "        cont=0;\n",
        "      }\n",
        "      else{\n",
        "        valores[cont]=cadena[pos];\n",
        "        cont++;\n",
        "      }\n",
        "    }\n",
        "  }\n",
        "  suma=suma+atoi(valores);\n",
        "  printf(\"Fichero %s:la suma de los valores encontraods es: %d \\n\", nombre, suma);\n",
        "  close(fd);\n",
        "}"
      ],
      "execution_count": 0,
      "outputs": []
    },
    {
      "cell_type": "markdown",
      "metadata": {
        "id": "QufmYi9IqEtC",
        "colab_type": "text"
      },
      "source": [
        "Resultados"
      ]
    },
    {
      "cell_type": "markdown",
      "metadata": {
        "id": "vC1Vz1ElqIUN",
        "colab_type": "text"
      },
      "source": [
        "![texto alternativo](https://raw.githubusercontent.com/josearangos/thread-api/master/Code/Punto%205/P_5.1.png)"
      ]
    },
    {
      "cell_type": "markdown",
      "metadata": {
        "id": "HPnxZXoPqVQZ",
        "colab_type": "text"
      },
      "source": [
        "Segunda forma  creando dos hilos, de manera que cada uno de ellos realice la sumatoria de la mitad de los componentes del vector"
      ]
    },
    {
      "cell_type": "code",
      "metadata": {
        "id": "wWyixvztqZdr",
        "colab_type": "code",
        "colab": {}
      },
      "source": [
        "#include <unistd.h>\n",
        "#include <stdlib.h>\n",
        "#include <stdio.h>\n",
        "#include <sys/types.h>\n",
        "#include <sys/stat.h>\n",
        "#include <fcntl.h>\n",
        "#include <string.h>\n",
        "#include <pthread.h>\n",
        "\n",
        "#define MAXLON 1000\n",
        "\n",
        "int result=0;\n",
        "\n",
        "struct cuenta_parms\n",
        "{\n",
        "  /* The character to print.  */\n",
        "  char * nombre;\n",
        "  int punteroa;\n",
        "  int punterod;\n",
        "};\n",
        "int cuentaCaracter (char *nombre) {\n",
        "  int pos, cont= 0, leidos;\n",
        "  char cadena[MAXLON];\n",
        "  int fd;\n",
        "  fd= open(nombre,O_RDONLY);\n",
        "  while ((leidos =read(fd,cadena,MAXLON))!= 0) {\n",
        "    for (pos= 0; pos< leidos; pos++) {\n",
        "      if (cadena[pos]== ','){\n",
        "        cont++;\n",
        "      }\n",
        "    }\n",
        "  }\n",
        "  cont=cont+1;\n",
        "  int  div=((cont%2) ? cont/2+1:cont/2);\n",
        "  printf(\"El valor de la división es %d \",div);\n",
        "  cont= 0;\n",
        "  close(fd);\n",
        "  fd= open(nombre,O_RDONLY);\n",
        "  while ((leidos =read(fd,cadena,MAXLON))!= 0) {\n",
        "    for (pos= 0; pos< leidos; pos++) {\n",
        "      if (cadena[pos]== ','){\n",
        "        cont++;\n",
        "        if(cont==div){\n",
        "          return pos+1;\n",
        "        }\n",
        "      }\n",
        "    }\n",
        "  }\n",
        "  close(fd);\n",
        "  return 0;\n",
        "}\n",
        "void *cuenta (void* parameters) {\n",
        "  struct cuenta_parms* p = (struct cuenta_parms*) parameters;\n",
        "  int pos, cont= 0, leidos;\n",
        "  char cadena[MAXLON];\n",
        "  int fd;\n",
        "  fd= open(p->nombre,O_RDONLY);\n",
        "  char valores [7];\n",
        "  int suma=0;\n",
        "  int hasta=p->punteroa;\n",
        "  while ((leidos =read(fd,cadena,MAXLON))!= 0) {\n",
        "    if(p->punteroa==-1){\n",
        "     hasta=leidos;\n",
        "    }\n",
        "    for (pos=p->punterod; pos< hasta; pos++) { \n",
        "      if (cadena[pos]== ','){\n",
        "        \n",
        "        suma=suma+atoi(valores);\n",
        "        memset(valores,'\\0',7);\n",
        "        cont=0;\n",
        "      }\n",
        "      else{\n",
        "        valores[cont]=cadena[pos];\n",
        "        cont++;\n",
        "      }\n",
        "    }\n",
        "  }\n",
        "  suma=suma+atoi(valores);\n",
        "  result=result+suma;\n",
        "  printf(\"Fichero %s: la suma de los valores parciales es: %d \\n\", p->nombre, suma);\n",
        "  close(fd);\n",
        "  return NULL;\n",
        "}\n",
        "int main (int argc, char *argv[]) { \n",
        "\n",
        "  if (argc!= 2) {\n",
        "    printf (\"Indica el nombre de un fichero.\\n\");\n",
        "    exit(0);\n",
        "  }\n",
        "  int cvalores=cuentaCaracter (argv[1]);\n",
        "\n",
        "  pthread_t thread1_id;\n",
        "  pthread_t thread2_id;\n",
        "\n",
        "  struct cuenta_parms thread1_args;\n",
        "  struct cuenta_parms thread2_args;\n",
        "\n",
        "  thread1_args.nombre = argv[1];\n",
        "  thread2_args.nombre = argv[1];\n",
        "\n",
        "  thread1_args.punteroa = cvalores;\n",
        "  thread2_args.punteroa = -1;\n",
        "\n",
        "  thread1_args.punterod = 0;\n",
        "  thread2_args.punterod = cvalores;\n",
        "\n",
        "  pthread_create (&thread1_id, NULL, &cuenta, &thread1_args);\n",
        "  pthread_create (&thread2_id, NULL, &cuenta, &thread2_args);\n",
        "\n",
        "  /*-------INSERTAR AQUÍ-------*/\n",
        "  pthread_join (thread1_id, NULL);\n",
        "  pthread_join (thread2_id, NULL);\n",
        "\n",
        "  printf(\"La suma total es %d \\n\",result);\n",
        "  return 0;\n",
        "}"
      ],
      "execution_count": 0,
      "outputs": []
    },
    {
      "cell_type": "markdown",
      "metadata": {
        "id": "T9H2suLOqjOD",
        "colab_type": "text"
      },
      "source": [
        "Respuestas"
      ]
    },
    {
      "cell_type": "markdown",
      "metadata": {
        "id": "hIervFDtqlwg",
        "colab_type": "text"
      },
      "source": [
        "![texto alternativo](https://raw.githubusercontent.com/josearangos/thread-api/master/Code/Punto%205/P_5.2.png)"
      ]
    },
    {
      "cell_type": "markdown",
      "metadata": {
        "id": "c8hCVsD_rLCp",
        "colab_type": "text"
      },
      "source": [
        "Para medir el tiempo dentro del programa, cualquier zona de código, basta cojer en un punto el \"tiempo\", y tras hacer las operaciones que quieras, volverlo a medir y restar:\n",
        "Código"
      ]
    },
    {
      "cell_type": "code",
      "metadata": {
        "id": "Ow0BckSErS6R",
        "colab_type": "code",
        "colab": {}
      },
      "source": [
        "\n",
        "#include <sys/time.h>\n",
        "\n",
        "struct timeval t, t2;\n",
        "int microsegundos;\n",
        "gettimeofday(&t, NULL);\n",
        "\n",
        "// Codigo ...\n",
        "\n",
        "gettimeofday(&t2, NULL);\n",
        "microsegundos = ((t2.tv_usec - t.tv_usec)  + ((t2.tv_sec - t.tv_sec) * 1000000.0f));"
      ],
      "execution_count": 0,
      "outputs": []
    },
    {
      "cell_type": "markdown",
      "metadata": {
        "id": "I9iuE5g5ra2G",
        "colab_type": "text"
      },
      "source": [
        "microsegundos te devuelve un \"tiempo\" relativo al comienzo del programa (más o menos). Si lo vuelves a llamar y los restas, obtendrás la diferencia."
      ]
    },
    {
      "cell_type": "markdown",
      "metadata": {
        "id": "jTzoKE4y0DKa",
        "colab_type": "text"
      },
      "source": [
        "Datos obtenidos"
      ]
    },
    {
      "cell_type": "markdown",
      "metadata": {
        "id": "E3hpexvM0E9B",
        "colab_type": "text"
      },
      "source": [
        "![texto alternativo](https://raw.githubusercontent.com/josearangos/thread-api/master/Code/Punto%205/prueba%20tiempo%20P_5.1.png)"
      ]
    },
    {
      "cell_type": "markdown",
      "metadata": {
        "id": "ehsII4ua0FLu",
        "colab_type": "text"
      },
      "source": [
        "![texto alternativo](https://raw.githubusercontent.com/josearangos/thread-api/master/Code/Punto%205/prueba%20de%20tiempo%20P_5.2.png)"
      ]
    },
    {
      "cell_type": "markdown",
      "metadata": {
        "id": "Lc0qcNr10cFm",
        "colab_type": "text"
      },
      "source": [
        "Los resultados son los esperados, el segundo programa tarda ams ya que su ejecuciòn depende de la prioridad qu el scheduler de a los hilos necesarios para la ejecuciòn."
      ]
    },
    {
      "cell_type": "markdown",
      "metadata": {
        "id": "gBC1I32Ln77H",
        "colab_type": "text"
      },
      "source": [
        "6. El profesor de un curso desea un programa en lenguaje C que calcule la desviación estándar (símbolo σ o s) de las notas obtenidas por sus estudiantes en el curso "
      ]
    },
    {
      "cell_type": "markdown",
      "metadata": {
        "id": "FW3QnpMuoBZn",
        "colab_type": "text"
      },
      "source": [
        "![texto alternativo](https://raw.githubusercontent.com/josearangos/thread-api/master/desviacion_estandar.jpg)\n",
        "\n",
        "\n"
      ]
    },
    {
      "cell_type": "markdown",
      "metadata": {
        "id": "_MRd_Pyzn77I",
        "colab_type": "text"
      },
      "source": [
        "**Requisitos**:\n",
        "* El número de notas es variable (se debe usar memoria dinámica).\n",
        "* El programa debe crear tantos hilos como se especifique en el parámetro de entrada cantidad_hilos, se debe ejecutar así: \n",
        "\n",
        "```./nombre_ejecutable fichero_notas.csv cantidad_hilos```\n",
        "\n",
        "* Para calcular la desviación estándar, implemente la función: ```calculate_standard_deviation()``` "
      ]
    },
    {
      "cell_type": "code",
      "metadata": {
        "id": "XC9WVvmVn77J",
        "colab_type": "code",
        "colab": {}
      },
      "source": [
        ""
      ],
      "execution_count": 0,
      "outputs": []
    }
  ]
}