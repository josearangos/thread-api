{
 "cells": [
  {
   "cell_type": "markdown",
   "metadata": {},
   "source": [
    "# Integrantes\n",
    "\n",
    "- Jose Alberto Arango Sánchez\n",
    "- Andres Ramirez Hernandez"
   ]
  },
  {
   "cell_type": "markdown",
   "metadata": {
    "colab_type": "text",
    "id": "JqejcE-qn76h"
   },
   "source": [
    "# Actividad de laboratorio #\n",
    "\n",
    "1-  Dado el siguiente código:"
   ]
  },
  {
   "cell_type": "code",
   "execution_count": null,
   "metadata": {
    "colab": {},
    "colab_type": "code",
    "id": "yG0Lluz4n76k"
   },
   "outputs": [],
   "source": [
    "#include <stdio.h>\n",
    "#include <stdlib.h>\n",
    "#include <unistd.h>\n",
    "#include<time.h>\n",
    "\n",
    "long long int factorial (int);\n",
    "\n",
    "int main (int argc, char *argv[]) {\n",
    "  srand(time(0)); \n",
    "  if (argc== 2) {\n",
    "    printf (\"El factorial de %s es %lld\\n\", argv[1], factorial (atoi (argv[1])));\n",
    "  }\n",
    "  return 0;\n",
    "}\n",
    "\n",
    "long long int factorial (int n) {\n",
    "  long long int resultado= 1;\n",
    "  int num;\n",
    "  for (num= 2; num<= n; num++) {\n",
    "    resultado= resultado*num;\n",
    "    printf (\"Factorial de %d, resultado parcial %lld\\n\", n, resultado);\n",
    "    sleep (random()%3);\n",
    "  }\n",
    "  return resultado;\n",
    "}"
   ]
  },
  {
   "cell_type": "markdown",
   "metadata": {
    "colab_type": "text",
    "id": "WJ3GVI6_n760"
   },
   "source": [
    "Modifique el programa anterior de manera que reciba dos números enteros como parámetros de entrada y calcule sus factoriales de manera concurrente utilizando dos hilos que se ejecutan en paralelo con el hilo principal. El hilo principal deberá esperar a que terminen los otros dos hilos. Recuerda  añadir el parámetro ```-lpthread``` al comienzo del ```gcc``` para compilar la aplicación multihilo."
   ]
  },
  {
   "cell_type": "code",
   "execution_count": null,
   "metadata": {},
   "outputs": [],
   "source": [
    "/*\n",
    "Modifique el programa anterior de manera que reciba dos números\n",
    "enteros como parámetros de entrada y calcule sus factoriales de manera \n",
    "concurrente utilizando dos hilos que se ejecutan en paralelo con el hilo principal.\n",
    " El hilo principal deberá esperar a que terminen los otros dos hilos. \n",
    " Recuerda  añadir el parámetro ```-lpthread``` al comienzo del ```gcc``` para compilar \n",
    " la aplicación multihilo.\n",
    "*/\n",
    "\n",
    "#include <stdio.h>\n",
    "#include <stdlib.h>\n",
    "#include <unistd.h>\n",
    "#include<time.h>\n",
    "#include <pthread.h>\n",
    "\n",
    "void*  factorial (void* arg);\n",
    "\n",
    "int main (int argc, char *argv[]) {\n",
    "  pthread_t thread_id_1;\n",
    "  pthread_t thread_id_2;\n",
    "  int fact_1=0;\n",
    "  int fact_2=0;\n",
    "  int* fact_r_1;\n",
    "  int* fact_r_2;\n",
    "\n",
    "  srand(time(0)); \n",
    "\n",
    "  if (argc== 3) {\n",
    "    fact_1 =  atoi(argv[1]);\n",
    "    fact_2 =  atoi(argv[2]);\n",
    "    \n",
    "    pthread_create (&thread_id_1, NULL, &factorial, &fact_1);\n",
    "    pthread_create (&thread_id_2, NULL, &factorial, &fact_2);\n",
    "\n",
    "    pthread_join(thread_id_1, (void *) &fact_r_1);\n",
    "    pthread_join(thread_id_2, (void *) &fact_r_2);\n",
    "\n",
    "    printf (\"El factorial de %d es %d\\n\", fact_1, *fact_r_1);\n",
    "    printf (\"El factorial de %d es %d\\n\", fact_2, *fact_r_2);\n",
    "\n",
    "\n",
    "  }\n",
    "  return 0;\n",
    "}\n",
    "\n",
    "void*  factorial (void* arg) {\n",
    "  long long int resultado= 1;\n",
    "  int num;\n",
    "  int n = *((int*)arg);\n",
    "  for (num= 2; num<= n; num++) {\n",
    "    resultado= resultado*num;\n",
    "    printf (\"Factorial de %d, resultado parcial %lld\\n\", n, resultado);\n",
    "    sleep (random()%3);\n",
    "  }\n",
    "  int* p_c = malloc(sizeof(int));\n",
    "  *p_c = resultado;\n",
    "  return p_c;\n",
    "\n",
    "}"
   ]
  },
  {
   "cell_type": "markdown",
   "metadata": {},
   "source": [
    "![alt text](./Code/Punto1/P1.png)"
   ]
  },
  {
   "cell_type": "markdown",
   "metadata": {
    "colab_type": "text",
    "id": "eNXPdEIfn761"
   },
   "source": [
    "2- Modifique el programa resultante del numeral anterior de manera que no el número de factoriales a calcular no este limitado a 2. Para este caso, el programa puede crear tantos hilos como sean necesarios para el cálculo del factorial dependiendo del número de argumentos pasados. El hilo principal deberá esperar a que terminen el resto de los hilos y a medida que vayan terminando muestran un mensaje que indique el identificador del hilo finalizado.\n",
    "\n"
   ]
  },
  {
   "cell_type": "code",
   "execution_count": null,
   "metadata": {},
   "outputs": [],
   "source": [
    "/*\n",
    "Modifique el programa resultante del numeral anterior de manera que\n",
    "no el número de factoriales a calcular no este limitado a 2. \n",
    "Para este caso, el programa puede crear tantos hilos como sean necesarios\n",
    "para el cálculo del factorial dependiendo del número de argumentos pasados.\n",
    "El hilo principal deberá esperar a que terminen el resto de los hilos y a \n",
    "medida que vayan terminando muestran un mensaje que indique el identificador del hilo finalizado.\n",
    "\n",
    "*/\n",
    "\n",
    "#include <stdio.h>\n",
    "#include <stdlib.h>\n",
    "#include <unistd.h>\n",
    "#include<time.h>\n",
    "#include <pthread.h>\n",
    "\n",
    "void *factorial (void* args);\n",
    "\n",
    "int main (int argc, char *argv[]) {\n",
    "  pthread_t threads_ids[argc-1];\n",
    "  \n",
    "  for(int i=1;i<argc;i++){\n",
    "    pthread_create (&threads_ids[i], NULL, factorial, argv[i]);\n",
    "  } \n",
    "  srand(time(0)); \n",
    "  for(int i=1;i<argc;i++){\n",
    "    pthread_join(threads_ids[i],NULL);\n",
    "  } \n",
    "\n",
    "  return 0;\n",
    "}\n",
    "\n",
    "void*  factorial (void* args) {\n",
    "  long long int resultado= 1;\n",
    "  int num;\n",
    "  int n = atoi(args);\n",
    "  for (num= 2; num<= n; num++) {\n",
    "    resultado= resultado*num;\n",
    "    printf (\"Factorial de %d, resultado parcial %lld\\n\", n, resultado);\n",
    "    sleep (random()%3);\n",
    "  }\n",
    "  \n",
    "  printf (\"El factorial de %d es %lld\\n\", n, resultado);\n",
    "  printf(\"Termino de ejecutar el ThreadId: %lu \\n\",(unsigned long)pthread_self());\n",
    "\n",
    "\n",
    "  return NULL;\n",
    "}"
   ]
  },
  {
   "cell_type": "markdown",
   "metadata": {},
   "source": [
    "![alt text](./Code/Punto2/P2.png)"
   ]
  },
  {
   "cell_type": "markdown",
   "metadata": {
    "colab_type": "text",
    "id": "xviP5Yk3n763"
   },
   "source": [
    "3- El siguiente programa cuenta el número de veces que el carácter a o A aparece en el fichero indicado como parámetro de entrada. Modifíquese para que ahora se cree un hilo y sea este el que ejecute la función cuenta."
   ]
  },
  {
   "cell_type": "code",
   "execution_count": null,
   "metadata": {
    "colab": {},
    "colab_type": "code",
    "id": "KJTzBCqbn764"
   },
   "outputs": [],
   "source": [
    "#include <unistd.h>\n",
    "#include <stdlib.h>\n",
    "#include <stdio.h>\n",
    "#include <sys/types.h>\n",
    "#include <sys/stat.h>\n",
    "#include <fcntl.h>\n",
    "\n",
    "#define MAXLON 1000\n",
    "\n",
    "void cuenta (char *);\n",
    "\n",
    "int main (int argc, char *argv[]) { \n",
    "  if (argc!= 2) {\n",
    "    printf (\"Indica el nombre de un fichero.\\n\");\n",
    "    exit(0);\n",
    "  }\n",
    "  cuenta(argv[1]);\n",
    "  return 0;\n",
    "}\n",
    "\n",
    "void cuenta (char *nombre) {\n",
    "  int pos, cont= 0, leidos;\n",
    "  char cadena[MAXLON];\n",
    "  int fd;\n",
    "  fd= open(nombre,O_RDONLY);\n",
    "  while ((leidos =read(fd,cadena,MAXLON))!= 0) {\n",
    "    for (pos= 0; pos< leidos; pos++) {\n",
    "      if ((cadena[pos]== 'a') || (cadena[pos]== 'A')) {\n",
    "        cont++;\n",
    "      }\n",
    "    }\n",
    "  }\n",
    "  printf(\"Fichero %s: %d caracteres 'a' o 'A' encontrados\\n\", nombre, cont);\n",
    "  close(fd);\n",
    "}"
   ]
  },
  {
   "cell_type": "markdown",
   "metadata": {
    "colab_type": "text",
    "id": "MancTzhIoerU"
   },
   "source": [
    "Codigo agragando un hilo que lance la funciòn "
   ]
  },
  {
   "cell_type": "code",
   "execution_count": null,
   "metadata": {
    "colab": {},
    "colab_type": "code",
    "id": "vCx-nI4Xokev"
   },
   "outputs": [],
   "source": [
    "#include <unistd.h>\n",
    "#include <stdlib.h>\n",
    "#include <stdio.h>\n",
    "#include <sys/types.h>\n",
    "#include <sys/stat.h>\n",
    "#include <fcntl.h>\n",
    "#include <pthread.h>\n",
    "\n",
    "#define MAXLON 1000\n",
    "\n",
    "struct cuenta_parms\n",
    "{\n",
    "  /* The character to print.  */\n",
    "  char * nombre;\n",
    "\n",
    "};\n",
    "\n",
    "void * cuenta (void* parameters) {\n",
    "  struct cuenta_parms* p = (struct cuenta_parms*) parameters;\n",
    "\n",
    "  int pos, cont= 0, leidos;\n",
    "  char cadena[MAXLON];\n",
    "  int fd;\n",
    "  fd= open(p->nombre,O_RDONLY);\n",
    "  while ((leidos =read(fd,cadena,MAXLON))!= 0) {\n",
    "    for (pos= 0; pos< leidos; pos++) {\n",
    "      if ((cadena[pos]== 'a') || (cadena[pos]== 'A')) {\n",
    "        cont++;\n",
    "      }\n",
    "    }\n",
    "  }\n",
    "  printf(\"Fichero %s: %d caracteres 'a' o 'A' encontrados\\n\", p->nombre, cont);\n",
    "  close(fd);\n",
    "  return NULL;\n",
    "}\n",
    "\n",
    "int main (int argc, char *argv[]) {\n",
    "  if (argc!= 2) {\n",
    "    printf (\"Indica el nombre de un fichero.\\n\");\n",
    "    exit(0);\n",
    "  }\n",
    "\n",
    "  pthread_t thread1_id;\n",
    "  struct cuenta_parms thread1_args;\n",
    "\n",
    "  thread1_args.nombre = argv[1];\n",
    "\n",
    "  pthread_create (&thread1_id, NULL, &cuenta, &thread1_args);\n",
    "\n",
    "  /*-------INSERTAR AQUÍ-------*/\n",
    "  pthread_join (thread1_id, NULL);\n",
    " \n",
    "  return 0;\n",
    "}"
   ]
  },
  {
   "cell_type": "markdown",
   "metadata": {
    "colab_type": "text",
    "id": "4AX_yWV4pHvE"
   },
   "source": [
    "Resultados"
   ]
  },
  {
   "cell_type": "markdown",
   "metadata": {
    "colab_type": "text",
    "id": "FLggAxvkpKiD"
   },
   "source": [
    "![texto alternativo](https://raw.githubusercontent.com/josearangos/thread-api/master/Codigo/Punto%203/P_3.png)"
   ]
  },
  {
   "cell_type": "markdown",
   "metadata": {
    "colab_type": "text",
    "id": "CNN8Lr1gn77C"
   },
   "source": [
    "4-  Modifique el programa resultado del ejercicio anterior para que se creen tantos hilos como ficheros especificados como parámetros de entrada de tal manera que todos los hilos lleven a cabo su función de forma concurrente."
   ]
  },
  {
   "cell_type": "code",
   "execution_count": null,
   "metadata": {
    "colab": {},
    "colab_type": "code",
    "id": "BGQ2d2RgpTT8"
   },
   "outputs": [],
   "source": [
    "#include <unistd.h>\n",
    "#include <stdlib.h>\n",
    "#include <stdio.h>\n",
    "#include <sys/types.h>\n",
    "#include <sys/stat.h>\n",
    "#include <fcntl.h>\n",
    "#include <pthread.h>\n",
    "\n",
    "#define MAXLON 1000\n",
    "\n",
    "struct cuenta_parms\n",
    "{\n",
    "  /* The character to print.  */\n",
    "  char * nombre;\n",
    "\n",
    "};\n",
    "\n",
    "void * cuenta (void* parameters) {\n",
    "  struct cuenta_parms* p = (struct cuenta_parms*) parameters;\n",
    "\n",
    "  int pos, cont= 0, leidos;\n",
    "  char cadena[MAXLON];\n",
    "  int fd;\n",
    "  fd= open(p->nombre,O_RDONLY);\n",
    "  while ((leidos =read(fd,cadena,MAXLON))!= 0) {\n",
    "    for (pos= 0; pos< leidos; pos++) {\n",
    "      if ((cadena[pos]== 'a') || (cadena[pos]== 'A')) {\n",
    "        cont++;\n",
    "      }\n",
    "    }\n",
    "  }\n",
    "  printf(\"Fichero %s: %d caracteres 'a' o 'A' encontrados\\n\", p->nombre, cont);\n",
    "  close(fd);\n",
    "  return NULL;\n",
    "}\n",
    "\n",
    "int main (int argc, char *argv[]) {\n",
    "  if (argc < 2) {\n",
    "    printf (\"Indica el nombre de un fichero.\\n\");\n",
    "    exit(0);\n",
    "  }\n",
    "  int count=1;\n",
    "  while(count<argc){\n",
    "\n",
    "    pthread_t thread1_id;\n",
    "    struct cuenta_parms thread1_args;\n",
    "\n",
    "    thread1_args.nombre = argv[count];\n",
    "\n",
    "    pthread_create (&thread1_id, NULL, &cuenta, &thread1_args);\n",
    "\n",
    "    /*-------INSERTAR AQUÍ-------*/\n",
    "    pthread_join (thread1_id, NULL);\n",
    "\n",
    "    count+=1;\n",
    "  }\n",
    "  return 0;\n",
    "}\n"
   ]
  },
  {
   "cell_type": "markdown",
   "metadata": {
    "colab_type": "text",
    "id": "BLT44zzjpZNQ"
   },
   "source": [
    "Resultados"
   ]
  },
  {
   "cell_type": "markdown",
   "metadata": {
    "colab_type": "text",
    "id": "nRVNS4skpcjs"
   },
   "source": [
    "![texto alternativo](https://raw.githubusercontent.com/josearangos/thread-api/master/Codigo/Punto%204/P_4.png)"
   ]
  },
  {
   "cell_type": "markdown",
   "metadata": {
    "colab_type": "text",
    "id": "ZXi-jw9on77C"
   },
   "source": [
    "5-  Se requiere un programa que reciba un vector de números a través de un archivo de texto. La idea es que el programa sume todos los números del vector. Implemente el programa de dos maneras: la primera de una forma estrictamente secuencial. La segunda forma es creando dos hilos, de manera que cada uno de ellos realice la sumatoria de la mitad de los componentes del vector. El hilo 1 sumará los primeros datos del vector y el hilo 2 los últimos. Luego cuando los dos hilos finalicen muestre en pantalla el resultado.\n",
    "   * Realice el programa de manera genérica, de tal forma que sea posible ingresar vectores de cualquier tamaño.\n",
    "   * Mida el tiempo de ejecución de ambas implementaciones para varios tamaños del vector \n",
    "   *  ¿El resultado obtenido es acorde a lo que usted esperaba?\n",
    "   Describa la técnica que usó para realizar la medición del tiempo. ¿Cuáles son las debilidades de esta técnica? ¿Existe otra forma de medir el tiempo de ejecución de un programa?"
   ]
  },
  {
   "cell_type": "markdown",
   "metadata": {
    "colab_type": "text",
    "id": "J_vux-SDqDFH"
   },
   "source": [
    " Programa que suma todos los números de un vector"
   ]
  },
  {
   "cell_type": "code",
   "execution_count": null,
   "metadata": {
    "colab": {},
    "colab_type": "code",
    "id": "EyTCioRop_Ik"
   },
   "outputs": [],
   "source": [
    "#include <unistd.h>\n",
    "#include <stdlib.h>\n",
    "#include <stdio.h>\n",
    "#include <sys/types.h>\n",
    "#include <sys/stat.h>\n",
    "#include <fcntl.h>\n",
    "#include <string.h>\n",
    "\n",
    "#define MAXLON 1000\n",
    "\n",
    "void cuenta (char *);\n",
    "\n",
    "int main (int argc, char *argv[]) { \n",
    "  if (argc!= 2) {\n",
    "    printf (\"Indica el nombre de un fichero.\\n\");\n",
    "    exit(0);\n",
    "  }\n",
    "  cuenta(argv[1]);\n",
    "  return 0;\n",
    "}\n",
    "\n",
    "void cuenta (char *nombre) {\n",
    "  int pos, cont= 0, leidos;\n",
    "  char cadena[MAXLON];\n",
    "  int fd;\n",
    "  fd= open(nombre,O_RDONLY);\n",
    "  char valores [7];\n",
    "  int suma=0;\n",
    "  while ((leidos =read(fd,cadena,MAXLON))!= 0) {\n",
    "    for (pos= 0; pos< leidos; pos++) { \n",
    "      if (cadena[pos]== ','){\n",
    "        //valores[cont]=NULL;\n",
    "        suma=suma+atoi(valores);\n",
    "        memset(valores,'\\0',7);\n",
    "        cont=0;\n",
    "      }\n",
    "      else{\n",
    "        valores[cont]=cadena[pos];\n",
    "        cont++;\n",
    "      }\n",
    "    }\n",
    "  }\n",
    "  suma=suma+atoi(valores);\n",
    "  printf(\"Fichero %s:la suma de los valores encontraods es: %d \\n\", nombre, suma);\n",
    "  close(fd);\n",
    "}"
   ]
  },
  {
   "cell_type": "markdown",
   "metadata": {
    "colab_type": "text",
    "id": "QufmYi9IqEtC"
   },
   "source": [
    "Resultados"
   ]
  },
  {
   "cell_type": "markdown",
   "metadata": {
    "colab_type": "text",
    "id": "vC1Vz1ElqIUN"
   },
   "source": [
    "![texto alternativo](https://raw.githubusercontent.com/josearangos/thread-api/master/Codigo/Punto%205/P_5.1.png)"
   ]
  },
  {
   "cell_type": "markdown",
   "metadata": {
    "colab_type": "text",
    "id": "HPnxZXoPqVQZ"
   },
   "source": [
    "Segunda forma  creando dos hilos, de manera que cada uno de ellos realice la sumatoria de la mitad de los componentes del vector"
   ]
  },
  {
   "cell_type": "code",
   "execution_count": null,
   "metadata": {
    "colab": {},
    "colab_type": "code",
    "id": "wWyixvztqZdr"
   },
   "outputs": [],
   "source": [
    "#include <unistd.h>\n",
    "#include <stdlib.h>\n",
    "#include <stdio.h>\n",
    "#include <sys/types.h>\n",
    "#include <sys/stat.h>\n",
    "#include <fcntl.h>\n",
    "#include <string.h>\n",
    "#include <pthread.h>\n",
    "\n",
    "#define MAXLON 1000\n",
    "\n",
    "int result=0;\n",
    "\n",
    "struct cuenta_parms\n",
    "{\n",
    "  /* The character to print.  */\n",
    "  char * nombre;\n",
    "  int punteroa;\n",
    "  int punterod;\n",
    "};\n",
    "int cuentaCaracter (char *nombre) {\n",
    "  int pos, cont= 0, leidos;\n",
    "  char cadena[MAXLON];\n",
    "  int fd;\n",
    "  fd= open(nombre,O_RDONLY);\n",
    "  while ((leidos =read(fd,cadena,MAXLON))!= 0) {\n",
    "    for (pos= 0; pos< leidos; pos++) {\n",
    "      if (cadena[pos]== ','){\n",
    "        cont++;\n",
    "      }\n",
    "    }\n",
    "  }\n",
    "  cont=cont+1;\n",
    "  int  div=((cont%2) ? cont/2+1:cont/2);\n",
    "  printf(\"El valor de la división es %d \",div);\n",
    "  cont= 0;\n",
    "  close(fd);\n",
    "  fd= open(nombre,O_RDONLY);\n",
    "  while ((leidos =read(fd,cadena,MAXLON))!= 0) {\n",
    "    for (pos= 0; pos< leidos; pos++) {\n",
    "      if (cadena[pos]== ','){\n",
    "        cont++;\n",
    "        if(cont==div){\n",
    "          return pos+1;\n",
    "        }\n",
    "      }\n",
    "    }\n",
    "  }\n",
    "  close(fd);\n",
    "  return 0;\n",
    "}\n",
    "void *cuenta (void* parameters) {\n",
    "  struct cuenta_parms* p = (struct cuenta_parms*) parameters;\n",
    "  int pos, cont= 0, leidos;\n",
    "  char cadena[MAXLON];\n",
    "  int fd;\n",
    "  fd= open(p->nombre,O_RDONLY);\n",
    "  char valores [7];\n",
    "  int suma=0;\n",
    "  int hasta=p->punteroa;\n",
    "  while ((leidos =read(fd,cadena,MAXLON))!= 0) {\n",
    "    if(p->punteroa==-1){\n",
    "     hasta=leidos;\n",
    "    }\n",
    "    for (pos=p->punterod; pos< hasta; pos++) { \n",
    "      if (cadena[pos]== ','){\n",
    "        \n",
    "        suma=suma+atoi(valores);\n",
    "        memset(valores,'\\0',7);\n",
    "        cont=0;\n",
    "      }\n",
    "      else{\n",
    "        valores[cont]=cadena[pos];\n",
    "        cont++;\n",
    "      }\n",
    "    }\n",
    "  }\n",
    "  suma=suma+atoi(valores);\n",
    "  result=result+suma;\n",
    "  printf(\"Fichero %s: la suma de los valores parciales es: %d \\n\", p->nombre, suma);\n",
    "  close(fd);\n",
    "  return NULL;\n",
    "}\n",
    "int main (int argc, char *argv[]) { \n",
    "\n",
    "  if (argc!= 2) {\n",
    "    printf (\"Indica el nombre de un fichero.\\n\");\n",
    "    exit(0);\n",
    "  }\n",
    "  int cvalores=cuentaCaracter (argv[1]);\n",
    "\n",
    "  pthread_t thread1_id;\n",
    "  pthread_t thread2_id;\n",
    "\n",
    "  struct cuenta_parms thread1_args;\n",
    "  struct cuenta_parms thread2_args;\n",
    "\n",
    "  thread1_args.nombre = argv[1];\n",
    "  thread2_args.nombre = argv[1];\n",
    "\n",
    "  thread1_args.punteroa = cvalores;\n",
    "  thread2_args.punteroa = -1;\n",
    "\n",
    "  thread1_args.punterod = 0;\n",
    "  thread2_args.punterod = cvalores;\n",
    "\n",
    "  pthread_create (&thread1_id, NULL, &cuenta, &thread1_args);\n",
    "  pthread_create (&thread2_id, NULL, &cuenta, &thread2_args);\n",
    "\n",
    "  /*-------INSERTAR AQUÍ-------*/\n",
    "  pthread_join (thread1_id, NULL);\n",
    "  pthread_join (thread2_id, NULL);\n",
    "\n",
    "  printf(\"La suma total es %d \\n\",result);\n",
    "  return 0;\n",
    "}"
   ]
  },
  {
   "cell_type": "markdown",
   "metadata": {
    "colab_type": "text",
    "id": "T9H2suLOqjOD"
   },
   "source": [
    "Respuestas"
   ]
  },
  {
   "cell_type": "markdown",
   "metadata": {
    "colab_type": "text",
    "id": "hIervFDtqlwg"
   },
   "source": [
    "![texto alternativo](https://raw.githubusercontent.com/josearangos/thread-api/master/Codigo/Punto%205/P_5.2.png)"
   ]
  },
  {
   "cell_type": "markdown",
   "metadata": {
    "colab_type": "text",
    "id": "c8hCVsD_rLCp"
   },
   "source": [
    "Para medir el tiempo dentro del programa, cualquier zona de código, basta cojer en un punto el \"tiempo\", y tras hacer las operaciones que quieras, volverlo a medir y restar:\n",
    "Código"
   ]
  },
  {
   "cell_type": "code",
   "execution_count": null,
   "metadata": {
    "colab": {},
    "colab_type": "code",
    "id": "Ow0BckSErS6R"
   },
   "outputs": [],
   "source": [
    "\n",
    "#include <sys/time.h>\n",
    "\n",
    "struct timeval t, t2;\n",
    "int microsegundos;\n",
    "gettimeofday(&t, NULL);\n",
    "\n",
    "// Codigo ...\n",
    "\n",
    "gettimeofday(&t2, NULL);\n",
    "microsegundos = ((t2.tv_usec - t.tv_usec)  + ((t2.tv_sec - t.tv_sec) * 1000000.0f));"
   ]
  },
  {
   "cell_type": "markdown",
   "metadata": {
    "colab_type": "text",
    "id": "I9iuE5g5ra2G"
   },
   "source": [
    "microsegundos te devuelve un \"tiempo\" relativo al comienzo del programa (más o menos). Si lo vuelves a llamar y los restas, obtendrás la diferencia."
   ]
  },
  {
   "cell_type": "markdown",
   "metadata": {
    "colab_type": "text",
    "id": "jTzoKE4y0DKa"
   },
   "source": [
    "Datos obtenidos"
   ]
  },
  {
   "cell_type": "markdown",
   "metadata": {
    "colab_type": "text",
    "id": "E3hpexvM0E9B"
   },
   "source": [
    "![texto alternativo](https://raw.githubusercontent.com/josearangos/thread-api/master/Codigo/Punto%205/prueba%20tiempo%20P_5.1.png)"
   ]
  },
  {
   "cell_type": "markdown",
   "metadata": {
    "colab_type": "text",
    "id": "ehsII4ua0FLu"
   },
   "source": [
    "![texto alternativo](https://raw.githubusercontent.com/josearangos/thread-api/master/Codigo/Punto%205/prueba%20de%20tiempo%20P_5.2.png)"
   ]
  },
  {
   "cell_type": "markdown",
   "metadata": {
    "colab_type": "text",
    "id": "Lc0qcNr10cFm"
   },
   "source": [
    "Los resultados son los esperados, el segundo programa tarda ams ya que su ejecuciòn depende de la prioridad qu el scheduler de a los hilos necesarios para la ejecuciòn."
   ]
  },
  {
   "cell_type": "markdown",
   "metadata": {
    "colab_type": "text",
    "id": "gBC1I32Ln77H"
   },
   "source": [
    "6-  El profesor de un curso desea un programa en lenguaje C que calcule la desviación estándar (símbolo σ o s) de las notas obtenidas por sus estudiantes en el curso "
   ]
  },
  {
   "cell_type": "markdown",
   "metadata": {
    "colab_type": "text",
    "id": "FW3QnpMuoBZn"
   },
   "source": [
    "![texto alternativo](https://raw.githubusercontent.com/josearangos/thread-api/master/desviacion_estandar.jpg)\n",
    "\n",
    "\n"
   ]
  },
  {
   "cell_type": "markdown",
   "metadata": {
    "colab_type": "text",
    "id": "_MRd_Pyzn77I"
   },
   "source": [
    "**Requisitos**:\n",
    "* El número de notas es variable (se debe usar memoria dinámica).\n",
    "* El programa debe crear tantos hilos como se especifique en el parámetro de entrada cantidad_hilos, se debe ejecutar así: \n",
    "\n",
    "```./nombre_ejecutable fichero_notas.csv cantidad_hilos```\n",
    "\n",
    "* Para calcular la desviación estándar, implemente la función: ```calculate_standard_deviation()``` "
   ]
  },
  {
   "cell_type": "code",
   "execution_count": null,
   "metadata": {
    "colab": {},
    "colab_type": "code",
    "id": "XC9WVvmVn77J"
   },
   "outputs": [],
   "source": [
    "/*\n",
    "El profesor de un curso desea un programa en lenguaje C \n",
    "que calcule la desviación estándar (símbolo σ o s) de las \n",
    "notas obtenidas por sus estudiantes en el curso \n",
    "\n",
    "**Requisitos**:\n",
    "* El número de notas es variable (se debe usar memoria dinámica).\n",
    "* El programa debe crear tantos hilos como se especifique en el\n",
    " parámetro de entrada cantidad_hilos, se debe ejecutar así: \n",
    "    ./nombre_ejecutable fichero_notas.csv cantidad_hilos\n",
    "    Para calcular la desviación estándar, implemente la función: calculate_standard_deviation()\n",
    "\n",
    "Necesito\n",
    "\n",
    "*/\n",
    "#include <stdio.h>\n",
    "#include <math.h> \n",
    "#include <string.h>\n",
    "#include <fcntl.h>\n",
    "#include <unistd.h>\n",
    "#include <stdlib.h>\n",
    "#include <sys/queue.h>\n",
    "#include <sys/stat.h>\n",
    "#include <sys/types.h>\n",
    "#include <pthread.h>\n",
    "\n",
    "char *fileToArray(char *filePath);\n",
    "float *fileArrayToList(int *n,char *scores);\n",
    "float mean(int n, float *score);\n",
    "void calculate_standard_deviation(int n, float *score, float mean);\n",
    "void *desviationStd(void *filePath);\n",
    "\n",
    "int main(int argc, char *argv[]) {\n",
    "\n",
    "    if (argc == 1) {\n",
    "      printf (\"Ingrese path de las notas y el número de hilos\\n\");\n",
    "      exit(0);\n",
    "    }else\n",
    "    if(argc ==2){\n",
    "        printf(\"Ingrese el número de hilos\");\n",
    "        exit(0);\n",
    "    }else if(argc > 3){\n",
    "        printf(\"Ingreso mas parametros de los necesarios\");\n",
    "        exit(0);\n",
    "    }\n",
    "\n",
    "    int n_threads = atoi((char *)argv[2]);\n",
    "    pthread_t threads_ids[n_threads]; \n",
    "\n",
    "    for(int i=0;i<n_threads;i++){    \n",
    "        pthread_create (&threads_ids[i], NULL,desviationStd ,argv[1]);\n",
    "    } \n",
    "\n",
    "    for (int i = 0; i < n_threads; i++){\n",
    "        pthread_join(threads_ids[i], NULL);\n",
    "    }\n",
    "\n",
    "   \n",
    "   return 0;\n",
    "}\n",
    "\n",
    "\n",
    "void *desviationStd(void *filePath){\n",
    "\n",
    "    int n=0;\n",
    "    char *textarray =fileToArray(filePath);\n",
    "    float *scoresList = fileArrayToList(&n,textarray);\n",
    "    float meanS = mean(n,scoresList);\n",
    "    calculate_standard_deviation(n,scoresList,meanS);\n",
    "    pthread_exit(NULL);\n",
    "\n",
    "}\n",
    "\n",
    "char *fileToArray(char *filePath){\n",
    "    FILE *fp;\n",
    "    char pc;\n",
    "    fp = fopen(filePath, \"rt\");\n",
    "    char *scoresArray = (char *)malloc(1*sizeof(char));\n",
    "    \n",
    "    if (fp == NULL){\n",
    "        printf(\"No se puedo abrir el file\\n\");\n",
    "        exit(0);\n",
    "    }\n",
    "    pc = fgetc(fp);\n",
    "    while (pc != EOF){\n",
    "        char sp[2] = \"\\0\";\n",
    "        sp[0] = pc;\n",
    "        scoresArray = (char *)realloc(scoresArray, (strlen(scoresArray) + strlen(sp) + 1) * sizeof(char));\n",
    "        strcat(scoresArray, sp);\n",
    "        pc = fgetc(fp);\n",
    "    }\n",
    "\n",
    "    fclose(fp);\n",
    "    return scoresArray;\n",
    "\n",
    "}\n",
    "\n",
    "float *fileArrayToList(int *n,char *scores){\n",
    "    char deli[] = \" \";\n",
    "    char *ptr = strtok(scores, deli);\n",
    "    int n_elements = 1, index = 0;\n",
    "    float *nbrs = (float *)malloc(0 * sizeof(float));\n",
    "    while (ptr != NULL){\n",
    "        nbrs = (float *)realloc(nbrs, (n_elements) * sizeof(float));\n",
    "        float number = atof(ptr);\n",
    "        *(nbrs + index) = number;\n",
    "\n",
    "        ptr = strtok(NULL, deli);\n",
    "        n_elements = n_elements + 1;\n",
    "        index = index + 1;\n",
    "        *n = *n + 1;\n",
    "    }\n",
    "    return nbrs;\n",
    "\n",
    "}\n",
    "\n",
    "float mean(int n, float *score){\n",
    "    float meanR = 0.0;\n",
    "    float sumT = 0;\n",
    "    for (int k = 0; k < n; k++){\n",
    "        sumT = sumT + score[k];\n",
    "    }\n",
    "    meanR = sumT / n;\n",
    "    return meanR;\n",
    "\n",
    "\n",
    "}\n",
    "\n",
    "\n",
    "void calculate_standard_deviation(int n, float *score, float mean){\n",
    "    float sumR = 0;\n",
    "    for (int i = 0; i < n; i++){\n",
    "        sumR = sumR + pow((score[i] - mean), 2);\n",
    "    }\n",
    "    float norma = 1 / ((float)n - 1);\n",
    "    float std = sqrt(norma * sumR);\n",
    "    printf(\"Std = %f\\n\",std);\n",
    "}\n"
   ]
  },
  {
   "cell_type": "markdown",
   "metadata": {},
   "source": [
    "![alt text](./Codigo/Punto6/P6.png)"
   ]
  },
  {
   "cell_type": "code",
   "execution_count": null,
   "metadata": {},
   "outputs": [],
   "source": []
  }
 ],
 "metadata": {
  "colab": {
   "collapsed_sections": [],
   "name": "respuestas.ipynb",
   "provenance": []
  },
  "kernelspec": {
   "display_name": "Python 3",
   "language": "python",
   "name": "python3"
  },
  "language_info": {
   "codemirror_mode": {
    "name": "ipython",
    "version": 3
   },
   "file_extension": ".py",
   "mimetype": "text/x-python",
   "name": "python",
   "nbconvert_exporter": "python",
   "pygments_lexer": "ipython3",
   "version": "3.7.6"
  }
 },
 "nbformat": 4,
 "nbformat_minor": 4
}
